{
 "cells": [
  {
   "cell_type": "code",
   "execution_count": 1,
   "metadata": {},
   "outputs": [],
   "source": [
    "import pandas as pd\n",
    "import numpy as np\n",
    "d = {'c1': pd.Series(['A', 'B', 'C']),    \n",
    "      'c2': pd.Series([1, 2., 3., 4.])}"
   ]
  },
  {
   "cell_type": "code",
   "execution_count": 2,
   "metadata": {},
   "outputs": [
    {
     "data": {
      "text/plain": [
       "{'c1': 0    A\n",
       " 1    B\n",
       " 2    C\n",
       " dtype: object, 'c2': 0    1.0\n",
       " 1    2.0\n",
       " 2    3.0\n",
       " 3    4.0\n",
       " dtype: float64}"
      ]
     },
     "execution_count": 2,
     "metadata": {},
     "output_type": "execute_result"
    }
   ],
   "source": [
    "d"
   ]
  },
  {
   "cell_type": "code",
   "execution_count": 5,
   "metadata": {},
   "outputs": [],
   "source": [
    "df=pd.DataFrame(d)"
   ]
  },
  {
   "cell_type": "code",
   "execution_count": 6,
   "metadata": {},
   "outputs": [
    {
     "data": {
      "text/html": [
       "<div>\n",
       "<style scoped>\n",
       "    .dataframe tbody tr th:only-of-type {\n",
       "        vertical-align: middle;\n",
       "    }\n",
       "\n",
       "    .dataframe tbody tr th {\n",
       "        vertical-align: top;\n",
       "    }\n",
       "\n",
       "    .dataframe thead th {\n",
       "        text-align: right;\n",
       "    }\n",
       "</style>\n",
       "<table border=\"1\" class=\"dataframe\">\n",
       "  <thead>\n",
       "    <tr style=\"text-align: right;\">\n",
       "      <th></th>\n",
       "      <th>c1</th>\n",
       "      <th>c2</th>\n",
       "    </tr>\n",
       "  </thead>\n",
       "  <tbody>\n",
       "    <tr>\n",
       "      <td>0</td>\n",
       "      <td>A</td>\n",
       "      <td>1.0</td>\n",
       "    </tr>\n",
       "    <tr>\n",
       "      <td>1</td>\n",
       "      <td>B</td>\n",
       "      <td>2.0</td>\n",
       "    </tr>\n",
       "    <tr>\n",
       "      <td>2</td>\n",
       "      <td>C</td>\n",
       "      <td>3.0</td>\n",
       "    </tr>\n",
       "    <tr>\n",
       "      <td>3</td>\n",
       "      <td>NaN</td>\n",
       "      <td>4.0</td>\n",
       "    </tr>\n",
       "  </tbody>\n",
       "</table>\n",
       "</div>"
      ],
      "text/plain": [
       "    c1   c2\n",
       "0    A  1.0\n",
       "1    B  2.0\n",
       "2    C  3.0\n",
       "3  NaN  4.0"
      ]
     },
     "execution_count": 6,
     "metadata": {},
     "output_type": "execute_result"
    }
   ],
   "source": [
    "df"
   ]
  },
  {
   "cell_type": "code",
   "execution_count": 7,
   "metadata": {},
   "outputs": [
    {
     "data": {
      "text/plain": [
       "0    False\n",
       "1    False\n",
       "2    False\n",
       "dtype: bool"
      ]
     },
     "execution_count": 7,
     "metadata": {},
     "output_type": "execute_result"
    }
   ],
   "source": [
    "d['c1'].isnull()"
   ]
  },
  {
   "cell_type": "code",
   "execution_count": 8,
   "metadata": {},
   "outputs": [
    {
     "data": {
      "text/plain": [
       "0    False\n",
       "1    False\n",
       "2    False\n",
       "3     True\n",
       "Name: c1, dtype: bool"
      ]
     },
     "execution_count": 8,
     "metadata": {},
     "output_type": "execute_result"
    }
   ],
   "source": [
    "df['c1'].isnull()"
   ]
  },
  {
   "cell_type": "code",
   "execution_count": 9,
   "metadata": {},
   "outputs": [
    {
     "data": {
      "text/plain": [
       "False    4\n",
       "Name: c2, dtype: int64"
      ]
     },
     "execution_count": 9,
     "metadata": {},
     "output_type": "execute_result"
    }
   ],
   "source": [
    "df['c2'].isnull().value_counts()"
   ]
  },
  {
   "cell_type": "code",
   "execution_count": 10,
   "metadata": {},
   "outputs": [
    {
     "data": {
      "text/plain": [
       "False    3\n",
       "True     1\n",
       "Name: c1, dtype: int64"
      ]
     },
     "execution_count": 10,
     "metadata": {},
     "output_type": "execute_result"
    }
   ],
   "source": [
    "df['c1'].isnull().value_counts()"
   ]
  },
  {
   "cell_type": "code",
   "execution_count": 11,
   "metadata": {},
   "outputs": [],
   "source": [
    "dr=df['c2'].dropna()#drop rows of the nulll value "
   ]
  },
  {
   "cell_type": "code",
   "execution_count": 12,
   "metadata": {},
   "outputs": [
    {
     "data": {
      "text/plain": [
       "0    1.0\n",
       "1    2.0\n",
       "2    3.0\n",
       "3    4.0\n",
       "Name: c2, dtype: float64"
      ]
     },
     "execution_count": 12,
     "metadata": {},
     "output_type": "execute_result"
    }
   ],
   "source": [
    "dr"
   ]
  },
  {
   "cell_type": "code",
   "execution_count": 14,
   "metadata": {},
   "outputs": [],
   "source": [
    "dr=df['c1'].dropna()"
   ]
  },
  {
   "cell_type": "code",
   "execution_count": 15,
   "metadata": {},
   "outputs": [
    {
     "data": {
      "text/plain": [
       "0    A\n",
       "1    B\n",
       "2    C\n",
       "Name: c1, dtype: object"
      ]
     },
     "execution_count": 15,
     "metadata": {},
     "output_type": "execute_result"
    }
   ],
   "source": [
    "dr"
   ]
  },
  {
   "cell_type": "code",
   "execution_count": 16,
   "metadata": {},
   "outputs": [
    {
     "data": {
      "text/html": [
       "<div>\n",
       "<style scoped>\n",
       "    .dataframe tbody tr th:only-of-type {\n",
       "        vertical-align: middle;\n",
       "    }\n",
       "\n",
       "    .dataframe tbody tr th {\n",
       "        vertical-align: top;\n",
       "    }\n",
       "\n",
       "    .dataframe thead th {\n",
       "        text-align: right;\n",
       "    }\n",
       "</style>\n",
       "<table border=\"1\" class=\"dataframe\">\n",
       "  <thead>\n",
       "    <tr style=\"text-align: right;\">\n",
       "      <th></th>\n",
       "      <th>c1</th>\n",
       "      <th>c2</th>\n",
       "    </tr>\n",
       "  </thead>\n",
       "  <tbody>\n",
       "    <tr>\n",
       "      <td>0</td>\n",
       "      <td>A</td>\n",
       "      <td>1.0</td>\n",
       "    </tr>\n",
       "    <tr>\n",
       "      <td>1</td>\n",
       "      <td>B</td>\n",
       "      <td>2.0</td>\n",
       "    </tr>\n",
       "    <tr>\n",
       "      <td>2</td>\n",
       "      <td>C</td>\n",
       "      <td>3.0</td>\n",
       "    </tr>\n",
       "    <tr>\n",
       "      <td>3</td>\n",
       "      <td>NaN</td>\n",
       "      <td>4.0</td>\n",
       "    </tr>\n",
       "  </tbody>\n",
       "</table>\n",
       "</div>"
      ],
      "text/plain": [
       "    c1   c2\n",
       "0    A  1.0\n",
       "1    B  2.0\n",
       "2    C  3.0\n",
       "3  NaN  4.0"
      ]
     },
     "execution_count": 16,
     "metadata": {},
     "output_type": "execute_result"
    }
   ],
   "source": [
    "df"
   ]
  },
  {
   "cell_type": "code",
   "execution_count": 18,
   "metadata": {},
   "outputs": [],
   "source": [
    "dr=df.dropna(how='any')"
   ]
  },
  {
   "cell_type": "code",
   "execution_count": 19,
   "metadata": {},
   "outputs": [
    {
     "data": {
      "text/html": [
       "<div>\n",
       "<style scoped>\n",
       "    .dataframe tbody tr th:only-of-type {\n",
       "        vertical-align: middle;\n",
       "    }\n",
       "\n",
       "    .dataframe tbody tr th {\n",
       "        vertical-align: top;\n",
       "    }\n",
       "\n",
       "    .dataframe thead th {\n",
       "        text-align: right;\n",
       "    }\n",
       "</style>\n",
       "<table border=\"1\" class=\"dataframe\">\n",
       "  <thead>\n",
       "    <tr style=\"text-align: right;\">\n",
       "      <th></th>\n",
       "      <th>c1</th>\n",
       "      <th>c2</th>\n",
       "    </tr>\n",
       "  </thead>\n",
       "  <tbody>\n",
       "    <tr>\n",
       "      <td>0</td>\n",
       "      <td>A</td>\n",
       "      <td>1.0</td>\n",
       "    </tr>\n",
       "    <tr>\n",
       "      <td>1</td>\n",
       "      <td>B</td>\n",
       "      <td>2.0</td>\n",
       "    </tr>\n",
       "    <tr>\n",
       "      <td>2</td>\n",
       "      <td>C</td>\n",
       "      <td>3.0</td>\n",
       "    </tr>\n",
       "  </tbody>\n",
       "</table>\n",
       "</div>"
      ],
      "text/plain": [
       "  c1   c2\n",
       "0  A  1.0\n",
       "1  B  2.0\n",
       "2  C  3.0"
      ]
     },
     "execution_count": 19,
     "metadata": {},
     "output_type": "execute_result"
    }
   ],
   "source": [
    "dr"
   ]
  },
  {
   "cell_type": "code",
   "execution_count": 20,
   "metadata": {},
   "outputs": [
    {
     "data": {
      "text/html": [
       "<div>\n",
       "<style scoped>\n",
       "    .dataframe tbody tr th:only-of-type {\n",
       "        vertical-align: middle;\n",
       "    }\n",
       "\n",
       "    .dataframe tbody tr th {\n",
       "        vertical-align: top;\n",
       "    }\n",
       "\n",
       "    .dataframe thead th {\n",
       "        text-align: right;\n",
       "    }\n",
       "</style>\n",
       "<table border=\"1\" class=\"dataframe\">\n",
       "  <thead>\n",
       "    <tr style=\"text-align: right;\">\n",
       "      <th></th>\n",
       "      <th>c1</th>\n",
       "      <th>c2</th>\n",
       "    </tr>\n",
       "  </thead>\n",
       "  <tbody>\n",
       "    <tr>\n",
       "      <td>0</td>\n",
       "      <td>A</td>\n",
       "      <td>1.0</td>\n",
       "    </tr>\n",
       "    <tr>\n",
       "      <td>1</td>\n",
       "      <td>B</td>\n",
       "      <td>2.0</td>\n",
       "    </tr>\n",
       "    <tr>\n",
       "      <td>2</td>\n",
       "      <td>C</td>\n",
       "      <td>3.0</td>\n",
       "    </tr>\n",
       "    <tr>\n",
       "      <td>3</td>\n",
       "      <td>NaN</td>\n",
       "      <td>4.0</td>\n",
       "    </tr>\n",
       "  </tbody>\n",
       "</table>\n",
       "</div>"
      ],
      "text/plain": [
       "    c1   c2\n",
       "0    A  1.0\n",
       "1    B  2.0\n",
       "2    C  3.0\n",
       "3  NaN  4.0"
      ]
     },
     "execution_count": 20,
     "metadata": {},
     "output_type": "execute_result"
    }
   ],
   "source": [
    "df"
   ]
  },
  {
   "cell_type": "code",
   "execution_count": 21,
   "metadata": {},
   "outputs": [],
   "source": [
    "#########################"
   ]
  },
  {
   "cell_type": "code",
   "execution_count": 22,
   "metadata": {},
   "outputs": [],
   "source": [
    "#Filling the missing data"
   ]
  },
  {
   "cell_type": "code",
   "execution_count": 24,
   "metadata": {},
   "outputs": [],
   "source": [
    "df=pd.DataFrame(np.random.randn(5,3),index=['a0','a10','a20','a30','a40'],columns=['X','Y','Z'])"
   ]
  },
  {
   "cell_type": "code",
   "execution_count": 25,
   "metadata": {},
   "outputs": [
    {
     "data": {
      "text/html": [
       "<div>\n",
       "<style scoped>\n",
       "    .dataframe tbody tr th:only-of-type {\n",
       "        vertical-align: middle;\n",
       "    }\n",
       "\n",
       "    .dataframe tbody tr th {\n",
       "        vertical-align: top;\n",
       "    }\n",
       "\n",
       "    .dataframe thead th {\n",
       "        text-align: right;\n",
       "    }\n",
       "</style>\n",
       "<table border=\"1\" class=\"dataframe\">\n",
       "  <thead>\n",
       "    <tr style=\"text-align: right;\">\n",
       "      <th></th>\n",
       "      <th>X</th>\n",
       "      <th>Y</th>\n",
       "      <th>Z</th>\n",
       "    </tr>\n",
       "  </thead>\n",
       "  <tbody>\n",
       "    <tr>\n",
       "      <td>a0</td>\n",
       "      <td>-1.129443</td>\n",
       "      <td>-0.071093</td>\n",
       "      <td>-0.536263</td>\n",
       "    </tr>\n",
       "    <tr>\n",
       "      <td>a10</td>\n",
       "      <td>-0.069955</td>\n",
       "      <td>-0.908090</td>\n",
       "      <td>-0.781912</td>\n",
       "    </tr>\n",
       "    <tr>\n",
       "      <td>a20</td>\n",
       "      <td>-0.755704</td>\n",
       "      <td>-0.556427</td>\n",
       "      <td>0.635330</td>\n",
       "    </tr>\n",
       "    <tr>\n",
       "      <td>a30</td>\n",
       "      <td>-0.131948</td>\n",
       "      <td>-2.773040</td>\n",
       "      <td>2.636289</td>\n",
       "    </tr>\n",
       "    <tr>\n",
       "      <td>a40</td>\n",
       "      <td>0.827439</td>\n",
       "      <td>-1.507721</td>\n",
       "      <td>-0.983563</td>\n",
       "    </tr>\n",
       "  </tbody>\n",
       "</table>\n",
       "</div>"
      ],
      "text/plain": [
       "            X         Y         Z\n",
       "a0  -1.129443 -0.071093 -0.536263\n",
       "a10 -0.069955 -0.908090 -0.781912\n",
       "a20 -0.755704 -0.556427  0.635330\n",
       "a30 -0.131948 -2.773040  2.636289\n",
       "a40  0.827439 -1.507721 -0.983563"
      ]
     },
     "execution_count": 25,
     "metadata": {},
     "output_type": "execute_result"
    }
   ],
   "source": [
    "df"
   ]
  },
  {
   "cell_type": "code",
   "execution_count": 26,
   "metadata": {},
   "outputs": [],
   "source": [
    "df.to_csv('data.csv')"
   ]
  },
  {
   "cell_type": "code",
   "execution_count": 28,
   "metadata": {},
   "outputs": [],
   "source": [
    "d=pd.read_csv('data.csv')"
   ]
  },
  {
   "cell_type": "code",
   "execution_count": 29,
   "metadata": {},
   "outputs": [
    {
     "data": {
      "text/html": [
       "<div>\n",
       "<style scoped>\n",
       "    .dataframe tbody tr th:only-of-type {\n",
       "        vertical-align: middle;\n",
       "    }\n",
       "\n",
       "    .dataframe tbody tr th {\n",
       "        vertical-align: top;\n",
       "    }\n",
       "\n",
       "    .dataframe thead th {\n",
       "        text-align: right;\n",
       "    }\n",
       "</style>\n",
       "<table border=\"1\" class=\"dataframe\">\n",
       "  <thead>\n",
       "    <tr style=\"text-align: right;\">\n",
       "      <th></th>\n",
       "      <th>Unnamed: 0</th>\n",
       "      <th>X</th>\n",
       "      <th>Y</th>\n",
       "      <th>Z</th>\n",
       "    </tr>\n",
       "  </thead>\n",
       "  <tbody>\n",
       "    <tr>\n",
       "      <td>0</td>\n",
       "      <td>a0</td>\n",
       "      <td>-1.129443</td>\n",
       "      <td>-0.071093</td>\n",
       "      <td>-0.536263</td>\n",
       "    </tr>\n",
       "    <tr>\n",
       "      <td>1</td>\n",
       "      <td>a10</td>\n",
       "      <td>-0.069955</td>\n",
       "      <td>-0.908090</td>\n",
       "      <td>-0.781912</td>\n",
       "    </tr>\n",
       "    <tr>\n",
       "      <td>2</td>\n",
       "      <td>a20</td>\n",
       "      <td>-0.755704</td>\n",
       "      <td>-0.556427</td>\n",
       "      <td>0.635330</td>\n",
       "    </tr>\n",
       "    <tr>\n",
       "      <td>3</td>\n",
       "      <td>a30</td>\n",
       "      <td>-0.131948</td>\n",
       "      <td>-2.773040</td>\n",
       "      <td>2.636289</td>\n",
       "    </tr>\n",
       "    <tr>\n",
       "      <td>4</td>\n",
       "      <td>a40</td>\n",
       "      <td>0.827439</td>\n",
       "      <td>-1.507721</td>\n",
       "      <td>-0.983563</td>\n",
       "    </tr>\n",
       "  </tbody>\n",
       "</table>\n",
       "</div>"
      ],
      "text/plain": [
       "  Unnamed: 0         X         Y         Z\n",
       "0         a0 -1.129443 -0.071093 -0.536263\n",
       "1        a10 -0.069955 -0.908090 -0.781912\n",
       "2        a20 -0.755704 -0.556427  0.635330\n",
       "3        a30 -0.131948 -2.773040  2.636289\n",
       "4        a40  0.827439 -1.507721 -0.983563"
      ]
     },
     "execution_count": 29,
     "metadata": {},
     "output_type": "execute_result"
    }
   ],
   "source": [
    "d"
   ]
  },
  {
   "cell_type": "code",
   "execution_count": 33,
   "metadata": {},
   "outputs": [],
   "source": [
    "df2=df.reindex(['a0','a1','a10','a11','a20','a21','a30','a31','a40','a41'])"
   ]
  },
  {
   "cell_type": "code",
   "execution_count": 32,
   "metadata": {},
   "outputs": [
    {
     "data": {
      "text/html": [
       "<div>\n",
       "<style scoped>\n",
       "    .dataframe tbody tr th:only-of-type {\n",
       "        vertical-align: middle;\n",
       "    }\n",
       "\n",
       "    .dataframe tbody tr th {\n",
       "        vertical-align: top;\n",
       "    }\n",
       "\n",
       "    .dataframe thead th {\n",
       "        text-align: right;\n",
       "    }\n",
       "</style>\n",
       "<table border=\"1\" class=\"dataframe\">\n",
       "  <thead>\n",
       "    <tr style=\"text-align: right;\">\n",
       "      <th></th>\n",
       "      <th>X</th>\n",
       "      <th>Y</th>\n",
       "      <th>Z</th>\n",
       "    </tr>\n",
       "  </thead>\n",
       "  <tbody>\n",
       "    <tr>\n",
       "      <td>a0</td>\n",
       "      <td>-1.129443</td>\n",
       "      <td>-0.071093</td>\n",
       "      <td>-0.536263</td>\n",
       "    </tr>\n",
       "    <tr>\n",
       "      <td>a10</td>\n",
       "      <td>-0.069955</td>\n",
       "      <td>-0.908090</td>\n",
       "      <td>-0.781912</td>\n",
       "    </tr>\n",
       "    <tr>\n",
       "      <td>a20</td>\n",
       "      <td>-0.755704</td>\n",
       "      <td>-0.556427</td>\n",
       "      <td>0.635330</td>\n",
       "    </tr>\n",
       "    <tr>\n",
       "      <td>a30</td>\n",
       "      <td>-0.131948</td>\n",
       "      <td>-2.773040</td>\n",
       "      <td>2.636289</td>\n",
       "    </tr>\n",
       "    <tr>\n",
       "      <td>a40</td>\n",
       "      <td>0.827439</td>\n",
       "      <td>-1.507721</td>\n",
       "      <td>-0.983563</td>\n",
       "    </tr>\n",
       "  </tbody>\n",
       "</table>\n",
       "</div>"
      ],
      "text/plain": [
       "            X         Y         Z\n",
       "a0  -1.129443 -0.071093 -0.536263\n",
       "a10 -0.069955 -0.908090 -0.781912\n",
       "a20 -0.755704 -0.556427  0.635330\n",
       "a30 -0.131948 -2.773040  2.636289\n",
       "a40  0.827439 -1.507721 -0.983563"
      ]
     },
     "execution_count": 32,
     "metadata": {},
     "output_type": "execute_result"
    }
   ],
   "source": [
    "df"
   ]
  },
  {
   "cell_type": "code",
   "execution_count": 34,
   "metadata": {},
   "outputs": [
    {
     "data": {
      "text/html": [
       "<div>\n",
       "<style scoped>\n",
       "    .dataframe tbody tr th:only-of-type {\n",
       "        vertical-align: middle;\n",
       "    }\n",
       "\n",
       "    .dataframe tbody tr th {\n",
       "        vertical-align: top;\n",
       "    }\n",
       "\n",
       "    .dataframe thead th {\n",
       "        text-align: right;\n",
       "    }\n",
       "</style>\n",
       "<table border=\"1\" class=\"dataframe\">\n",
       "  <thead>\n",
       "    <tr style=\"text-align: right;\">\n",
       "      <th></th>\n",
       "      <th>X</th>\n",
       "      <th>Y</th>\n",
       "      <th>Z</th>\n",
       "    </tr>\n",
       "  </thead>\n",
       "  <tbody>\n",
       "    <tr>\n",
       "      <td>a0</td>\n",
       "      <td>-1.129443</td>\n",
       "      <td>-0.071093</td>\n",
       "      <td>-0.536263</td>\n",
       "    </tr>\n",
       "    <tr>\n",
       "      <td>a1</td>\n",
       "      <td>NaN</td>\n",
       "      <td>NaN</td>\n",
       "      <td>NaN</td>\n",
       "    </tr>\n",
       "    <tr>\n",
       "      <td>a10</td>\n",
       "      <td>-0.069955</td>\n",
       "      <td>-0.908090</td>\n",
       "      <td>-0.781912</td>\n",
       "    </tr>\n",
       "    <tr>\n",
       "      <td>a11</td>\n",
       "      <td>NaN</td>\n",
       "      <td>NaN</td>\n",
       "      <td>NaN</td>\n",
       "    </tr>\n",
       "    <tr>\n",
       "      <td>a20</td>\n",
       "      <td>-0.755704</td>\n",
       "      <td>-0.556427</td>\n",
       "      <td>0.635330</td>\n",
       "    </tr>\n",
       "    <tr>\n",
       "      <td>a21</td>\n",
       "      <td>NaN</td>\n",
       "      <td>NaN</td>\n",
       "      <td>NaN</td>\n",
       "    </tr>\n",
       "    <tr>\n",
       "      <td>a30</td>\n",
       "      <td>-0.131948</td>\n",
       "      <td>-2.773040</td>\n",
       "      <td>2.636289</td>\n",
       "    </tr>\n",
       "    <tr>\n",
       "      <td>a31</td>\n",
       "      <td>NaN</td>\n",
       "      <td>NaN</td>\n",
       "      <td>NaN</td>\n",
       "    </tr>\n",
       "    <tr>\n",
       "      <td>a40</td>\n",
       "      <td>0.827439</td>\n",
       "      <td>-1.507721</td>\n",
       "      <td>-0.983563</td>\n",
       "    </tr>\n",
       "    <tr>\n",
       "      <td>a41</td>\n",
       "      <td>NaN</td>\n",
       "      <td>NaN</td>\n",
       "      <td>NaN</td>\n",
       "    </tr>\n",
       "  </tbody>\n",
       "</table>\n",
       "</div>"
      ],
      "text/plain": [
       "            X         Y         Z\n",
       "a0  -1.129443 -0.071093 -0.536263\n",
       "a1        NaN       NaN       NaN\n",
       "a10 -0.069955 -0.908090 -0.781912\n",
       "a11       NaN       NaN       NaN\n",
       "a20 -0.755704 -0.556427  0.635330\n",
       "a21       NaN       NaN       NaN\n",
       "a30 -0.131948 -2.773040  2.636289\n",
       "a31       NaN       NaN       NaN\n",
       "a40  0.827439 -1.507721 -0.983563\n",
       "a41       NaN       NaN       NaN"
      ]
     },
     "execution_count": 34,
     "metadata": {},
     "output_type": "execute_result"
    }
   ],
   "source": [
    "df2"
   ]
  },
  {
   "cell_type": "code",
   "execution_count": 36,
   "metadata": {},
   "outputs": [
    {
     "data": {
      "text/html": [
       "<div>\n",
       "<style scoped>\n",
       "    .dataframe tbody tr th:only-of-type {\n",
       "        vertical-align: middle;\n",
       "    }\n",
       "\n",
       "    .dataframe tbody tr th {\n",
       "        vertical-align: top;\n",
       "    }\n",
       "\n",
       "    .dataframe thead th {\n",
       "        text-align: right;\n",
       "    }\n",
       "</style>\n",
       "<table border=\"1\" class=\"dataframe\">\n",
       "  <thead>\n",
       "    <tr style=\"text-align: right;\">\n",
       "      <th></th>\n",
       "      <th>X</th>\n",
       "      <th>Y</th>\n",
       "      <th>Z</th>\n",
       "    </tr>\n",
       "  </thead>\n",
       "  <tbody>\n",
       "    <tr>\n",
       "      <td>a0</td>\n",
       "      <td>-1.129443</td>\n",
       "      <td>-0.071093</td>\n",
       "      <td>-0.536263</td>\n",
       "    </tr>\n",
       "    <tr>\n",
       "      <td>a1</td>\n",
       "      <td>0.000000</td>\n",
       "      <td>0.000000</td>\n",
       "      <td>0.000000</td>\n",
       "    </tr>\n",
       "    <tr>\n",
       "      <td>a10</td>\n",
       "      <td>-0.069955</td>\n",
       "      <td>-0.908090</td>\n",
       "      <td>-0.781912</td>\n",
       "    </tr>\n",
       "    <tr>\n",
       "      <td>a11</td>\n",
       "      <td>0.000000</td>\n",
       "      <td>0.000000</td>\n",
       "      <td>0.000000</td>\n",
       "    </tr>\n",
       "    <tr>\n",
       "      <td>a20</td>\n",
       "      <td>-0.755704</td>\n",
       "      <td>-0.556427</td>\n",
       "      <td>0.635330</td>\n",
       "    </tr>\n",
       "    <tr>\n",
       "      <td>a21</td>\n",
       "      <td>0.000000</td>\n",
       "      <td>0.000000</td>\n",
       "      <td>0.000000</td>\n",
       "    </tr>\n",
       "    <tr>\n",
       "      <td>a30</td>\n",
       "      <td>-0.131948</td>\n",
       "      <td>-2.773040</td>\n",
       "      <td>2.636289</td>\n",
       "    </tr>\n",
       "    <tr>\n",
       "      <td>a31</td>\n",
       "      <td>0.000000</td>\n",
       "      <td>0.000000</td>\n",
       "      <td>0.000000</td>\n",
       "    </tr>\n",
       "    <tr>\n",
       "      <td>a40</td>\n",
       "      <td>0.827439</td>\n",
       "      <td>-1.507721</td>\n",
       "      <td>-0.983563</td>\n",
       "    </tr>\n",
       "    <tr>\n",
       "      <td>a41</td>\n",
       "      <td>0.000000</td>\n",
       "      <td>0.000000</td>\n",
       "      <td>0.000000</td>\n",
       "    </tr>\n",
       "  </tbody>\n",
       "</table>\n",
       "</div>"
      ],
      "text/plain": [
       "            X         Y         Z\n",
       "a0  -1.129443 -0.071093 -0.536263\n",
       "a1   0.000000  0.000000  0.000000\n",
       "a10 -0.069955 -0.908090 -0.781912\n",
       "a11  0.000000  0.000000  0.000000\n",
       "a20 -0.755704 -0.556427  0.635330\n",
       "a21  0.000000  0.000000  0.000000\n",
       "a30 -0.131948 -2.773040  2.636289\n",
       "a31  0.000000  0.000000  0.000000\n",
       "a40  0.827439 -1.507721 -0.983563\n",
       "a41  0.000000  0.000000  0.000000"
      ]
     },
     "execution_count": 36,
     "metadata": {},
     "output_type": "execute_result"
    }
   ],
   "source": [
    "df2.fillna(0)#fill value 0 in place of null"
   ]
  },
  {
   "cell_type": "code",
   "execution_count": 37,
   "metadata": {},
   "outputs": [
    {
     "data": {
      "text/html": [
       "<div>\n",
       "<style scoped>\n",
       "    .dataframe tbody tr th:only-of-type {\n",
       "        vertical-align: middle;\n",
       "    }\n",
       "\n",
       "    .dataframe tbody tr th {\n",
       "        vertical-align: top;\n",
       "    }\n",
       "\n",
       "    .dataframe thead th {\n",
       "        text-align: right;\n",
       "    }\n",
       "</style>\n",
       "<table border=\"1\" class=\"dataframe\">\n",
       "  <thead>\n",
       "    <tr style=\"text-align: right;\">\n",
       "      <th></th>\n",
       "      <th>X</th>\n",
       "      <th>Y</th>\n",
       "      <th>Z</th>\n",
       "    </tr>\n",
       "  </thead>\n",
       "  <tbody>\n",
       "    <tr>\n",
       "      <td>a0</td>\n",
       "      <td>-1.129443</td>\n",
       "      <td>-0.071093</td>\n",
       "      <td>-0.536263</td>\n",
       "    </tr>\n",
       "    <tr>\n",
       "      <td>a1</td>\n",
       "      <td>NaN</td>\n",
       "      <td>NaN</td>\n",
       "      <td>NaN</td>\n",
       "    </tr>\n",
       "    <tr>\n",
       "      <td>a10</td>\n",
       "      <td>-0.069955</td>\n",
       "      <td>-0.908090</td>\n",
       "      <td>-0.781912</td>\n",
       "    </tr>\n",
       "    <tr>\n",
       "      <td>a11</td>\n",
       "      <td>NaN</td>\n",
       "      <td>NaN</td>\n",
       "      <td>NaN</td>\n",
       "    </tr>\n",
       "    <tr>\n",
       "      <td>a20</td>\n",
       "      <td>-0.755704</td>\n",
       "      <td>-0.556427</td>\n",
       "      <td>0.635330</td>\n",
       "    </tr>\n",
       "    <tr>\n",
       "      <td>a21</td>\n",
       "      <td>NaN</td>\n",
       "      <td>NaN</td>\n",
       "      <td>NaN</td>\n",
       "    </tr>\n",
       "    <tr>\n",
       "      <td>a30</td>\n",
       "      <td>-0.131948</td>\n",
       "      <td>-2.773040</td>\n",
       "      <td>2.636289</td>\n",
       "    </tr>\n",
       "    <tr>\n",
       "      <td>a31</td>\n",
       "      <td>NaN</td>\n",
       "      <td>NaN</td>\n",
       "      <td>NaN</td>\n",
       "    </tr>\n",
       "    <tr>\n",
       "      <td>a40</td>\n",
       "      <td>0.827439</td>\n",
       "      <td>-1.507721</td>\n",
       "      <td>-0.983563</td>\n",
       "    </tr>\n",
       "    <tr>\n",
       "      <td>a41</td>\n",
       "      <td>NaN</td>\n",
       "      <td>NaN</td>\n",
       "      <td>NaN</td>\n",
       "    </tr>\n",
       "  </tbody>\n",
       "</table>\n",
       "</div>"
      ],
      "text/plain": [
       "            X         Y         Z\n",
       "a0  -1.129443 -0.071093 -0.536263\n",
       "a1        NaN       NaN       NaN\n",
       "a10 -0.069955 -0.908090 -0.781912\n",
       "a11       NaN       NaN       NaN\n",
       "a20 -0.755704 -0.556427  0.635330\n",
       "a21       NaN       NaN       NaN\n",
       "a30 -0.131948 -2.773040  2.636289\n",
       "a31       NaN       NaN       NaN\n",
       "a40  0.827439 -1.507721 -0.983563\n",
       "a41       NaN       NaN       NaN"
      ]
     },
     "execution_count": 37,
     "metadata": {},
     "output_type": "execute_result"
    }
   ],
   "source": [
    "df2"
   ]
  },
  {
   "cell_type": "code",
   "execution_count": 38,
   "metadata": {},
   "outputs": [
    {
     "data": {
      "text/html": [
       "<div>\n",
       "<style scoped>\n",
       "    .dataframe tbody tr th:only-of-type {\n",
       "        vertical-align: middle;\n",
       "    }\n",
       "\n",
       "    .dataframe tbody tr th {\n",
       "        vertical-align: top;\n",
       "    }\n",
       "\n",
       "    .dataframe thead th {\n",
       "        text-align: right;\n",
       "    }\n",
       "</style>\n",
       "<table border=\"1\" class=\"dataframe\">\n",
       "  <thead>\n",
       "    <tr style=\"text-align: right;\">\n",
       "      <th></th>\n",
       "      <th>X</th>\n",
       "      <th>Y</th>\n",
       "      <th>Z</th>\n",
       "    </tr>\n",
       "  </thead>\n",
       "  <tbody>\n",
       "    <tr>\n",
       "      <td>a0</td>\n",
       "      <td>-1.129443</td>\n",
       "      <td>-0.071093</td>\n",
       "      <td>-0.536263</td>\n",
       "    </tr>\n",
       "    <tr>\n",
       "      <td>a1</td>\n",
       "      <td>-1.129443</td>\n",
       "      <td>-0.071093</td>\n",
       "      <td>-0.536263</td>\n",
       "    </tr>\n",
       "    <tr>\n",
       "      <td>a10</td>\n",
       "      <td>-0.069955</td>\n",
       "      <td>-0.908090</td>\n",
       "      <td>-0.781912</td>\n",
       "    </tr>\n",
       "    <tr>\n",
       "      <td>a11</td>\n",
       "      <td>-0.069955</td>\n",
       "      <td>-0.908090</td>\n",
       "      <td>-0.781912</td>\n",
       "    </tr>\n",
       "    <tr>\n",
       "      <td>a20</td>\n",
       "      <td>-0.755704</td>\n",
       "      <td>-0.556427</td>\n",
       "      <td>0.635330</td>\n",
       "    </tr>\n",
       "    <tr>\n",
       "      <td>a21</td>\n",
       "      <td>-0.755704</td>\n",
       "      <td>-0.556427</td>\n",
       "      <td>0.635330</td>\n",
       "    </tr>\n",
       "    <tr>\n",
       "      <td>a30</td>\n",
       "      <td>-0.131948</td>\n",
       "      <td>-2.773040</td>\n",
       "      <td>2.636289</td>\n",
       "    </tr>\n",
       "    <tr>\n",
       "      <td>a31</td>\n",
       "      <td>-0.131948</td>\n",
       "      <td>-2.773040</td>\n",
       "      <td>2.636289</td>\n",
       "    </tr>\n",
       "    <tr>\n",
       "      <td>a40</td>\n",
       "      <td>0.827439</td>\n",
       "      <td>-1.507721</td>\n",
       "      <td>-0.983563</td>\n",
       "    </tr>\n",
       "    <tr>\n",
       "      <td>a41</td>\n",
       "      <td>0.827439</td>\n",
       "      <td>-1.507721</td>\n",
       "      <td>-0.983563</td>\n",
       "    </tr>\n",
       "  </tbody>\n",
       "</table>\n",
       "</div>"
      ],
      "text/plain": [
       "            X         Y         Z\n",
       "a0  -1.129443 -0.071093 -0.536263\n",
       "a1  -1.129443 -0.071093 -0.536263\n",
       "a10 -0.069955 -0.908090 -0.781912\n",
       "a11 -0.069955 -0.908090 -0.781912\n",
       "a20 -0.755704 -0.556427  0.635330\n",
       "a21 -0.755704 -0.556427  0.635330\n",
       "a30 -0.131948 -2.773040  2.636289\n",
       "a31 -0.131948 -2.773040  2.636289\n",
       "a40  0.827439 -1.507721 -0.983563\n",
       "a41  0.827439 -1.507721 -0.983563"
      ]
     },
     "execution_count": 38,
     "metadata": {},
     "output_type": "execute_result"
    }
   ],
   "source": [
    "df2.fillna(method='pad')# filling with forward propogation"
   ]
  },
  {
   "cell_type": "code",
   "execution_count": 43,
   "metadata": {},
   "outputs": [],
   "source": [
    "df2=df2.fillna(df2.mean())"
   ]
  },
  {
   "cell_type": "code",
   "execution_count": 45,
   "metadata": {},
   "outputs": [],
   "source": [
    "df2.to_csv('data1.csv')"
   ]
  },
  {
   "cell_type": "code",
   "execution_count": 44,
   "metadata": {},
   "outputs": [
    {
     "data": {
      "text/html": [
       "<div>\n",
       "<style scoped>\n",
       "    .dataframe tbody tr th:only-of-type {\n",
       "        vertical-align: middle;\n",
       "    }\n",
       "\n",
       "    .dataframe tbody tr th {\n",
       "        vertical-align: top;\n",
       "    }\n",
       "\n",
       "    .dataframe thead th {\n",
       "        text-align: right;\n",
       "    }\n",
       "</style>\n",
       "<table border=\"1\" class=\"dataframe\">\n",
       "  <thead>\n",
       "    <tr style=\"text-align: right;\">\n",
       "      <th></th>\n",
       "      <th>X</th>\n",
       "      <th>Y</th>\n",
       "      <th>Z</th>\n",
       "    </tr>\n",
       "  </thead>\n",
       "  <tbody>\n",
       "    <tr>\n",
       "      <td>a0</td>\n",
       "      <td>-1.129443</td>\n",
       "      <td>-0.071093</td>\n",
       "      <td>-0.536263</td>\n",
       "    </tr>\n",
       "    <tr>\n",
       "      <td>a1</td>\n",
       "      <td>-0.251922</td>\n",
       "      <td>-1.163274</td>\n",
       "      <td>0.193976</td>\n",
       "    </tr>\n",
       "    <tr>\n",
       "      <td>a10</td>\n",
       "      <td>-0.069955</td>\n",
       "      <td>-0.908090</td>\n",
       "      <td>-0.781912</td>\n",
       "    </tr>\n",
       "    <tr>\n",
       "      <td>a11</td>\n",
       "      <td>-0.251922</td>\n",
       "      <td>-1.163274</td>\n",
       "      <td>0.193976</td>\n",
       "    </tr>\n",
       "    <tr>\n",
       "      <td>a20</td>\n",
       "      <td>-0.755704</td>\n",
       "      <td>-0.556427</td>\n",
       "      <td>0.635330</td>\n",
       "    </tr>\n",
       "    <tr>\n",
       "      <td>a21</td>\n",
       "      <td>-0.251922</td>\n",
       "      <td>-1.163274</td>\n",
       "      <td>0.193976</td>\n",
       "    </tr>\n",
       "    <tr>\n",
       "      <td>a30</td>\n",
       "      <td>-0.131948</td>\n",
       "      <td>-2.773040</td>\n",
       "      <td>2.636289</td>\n",
       "    </tr>\n",
       "    <tr>\n",
       "      <td>a31</td>\n",
       "      <td>-0.251922</td>\n",
       "      <td>-1.163274</td>\n",
       "      <td>0.193976</td>\n",
       "    </tr>\n",
       "    <tr>\n",
       "      <td>a40</td>\n",
       "      <td>0.827439</td>\n",
       "      <td>-1.507721</td>\n",
       "      <td>-0.983563</td>\n",
       "    </tr>\n",
       "    <tr>\n",
       "      <td>a41</td>\n",
       "      <td>-0.251922</td>\n",
       "      <td>-1.163274</td>\n",
       "      <td>0.193976</td>\n",
       "    </tr>\n",
       "  </tbody>\n",
       "</table>\n",
       "</div>"
      ],
      "text/plain": [
       "            X         Y         Z\n",
       "a0  -1.129443 -0.071093 -0.536263\n",
       "a1  -0.251922 -1.163274  0.193976\n",
       "a10 -0.069955 -0.908090 -0.781912\n",
       "a11 -0.251922 -1.163274  0.193976\n",
       "a20 -0.755704 -0.556427  0.635330\n",
       "a21 -0.251922 -1.163274  0.193976\n",
       "a30 -0.131948 -2.773040  2.636289\n",
       "a31 -0.251922 -1.163274  0.193976\n",
       "a40  0.827439 -1.507721 -0.983563\n",
       "a41 -0.251922 -1.163274  0.193976"
      ]
     },
     "execution_count": 44,
     "metadata": {},
     "output_type": "execute_result"
    }
   ],
   "source": [
    "df2"
   ]
  },
  {
   "cell_type": "code",
   "execution_count": null,
   "metadata": {},
   "outputs": [],
   "source": []
  }
 ],
 "metadata": {
  "kernelspec": {
   "display_name": "Python 3",
   "language": "python",
   "name": "python3"
  },
  "language_info": {
   "codemirror_mode": {
    "name": "ipython",
    "version": 3
   },
   "file_extension": ".py",
   "mimetype": "text/x-python",
   "name": "python",
   "nbconvert_exporter": "python",
   "pygments_lexer": "ipython3",
   "version": "3.7.4"
  }
 },
 "nbformat": 4,
 "nbformat_minor": 2
}
